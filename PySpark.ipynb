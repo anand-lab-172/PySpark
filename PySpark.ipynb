{
 "cells": [
  {
   "cell_type": "code",
   "execution_count": 1,
   "id": "e72e1626",
   "metadata": {},
   "outputs": [],
   "source": [
    "import pyspark\n",
    "import pandas as pd\n",
    "import numpy as np \n",
    "import seaborn as sns\n",
    "import matplotlib.pyplot as plt"
   ]
  },
  {
   "cell_type": "code",
   "execution_count": 2,
   "id": "d8264d78",
   "metadata": {},
   "outputs": [],
   "source": [
    "from pyspark.sql import SparkSession"
   ]
  },
  {
   "cell_type": "code",
   "execution_count": 3,
   "id": "24dd006d",
   "metadata": {},
   "outputs": [],
   "source": [
    "spark = SparkSession.builder.appName('Medium').getOrCreate()"
   ]
  },
  {
   "cell_type": "code",
   "execution_count": 4,
   "id": "f8763c4d",
   "metadata": {
    "scrolled": true
   },
   "outputs": [
    {
     "data": {
      "text/html": [
       "\n",
       "            <div>\n",
       "                <p><b>SparkSession - in-memory</b></p>\n",
       "                \n",
       "        <div>\n",
       "            <p><b>SparkContext</b></p>\n",
       "\n",
       "            <p><a href=\"http://LAPTOP-LGNQ9HSS:4040\">Spark UI</a></p>\n",
       "\n",
       "            <dl>\n",
       "              <dt>Version</dt>\n",
       "                <dd><code>v3.1.2</code></dd>\n",
       "              <dt>Master</dt>\n",
       "                <dd><code>local[*]</code></dd>\n",
       "              <dt>AppName</dt>\n",
       "                <dd><code>Medium</code></dd>\n",
       "            </dl>\n",
       "        </div>\n",
       "        \n",
       "            </div>\n",
       "        "
      ],
      "text/plain": [
       "<pyspark.sql.session.SparkSession at 0x29e745969a0>"
      ]
     },
     "execution_count": 4,
     "metadata": {},
     "output_type": "execute_result"
    }
   ],
   "source": [
    "spark"
   ]
  },
  {
   "cell_type": "code",
   "execution_count": 5,
   "id": "a24ec4c5",
   "metadata": {},
   "outputs": [
    {
     "data": {
      "text/plain": [
       "DataFrame[Brand: string, Style: string, Country: string, Stars: string]"
      ]
     },
     "execution_count": 5,
     "metadata": {},
     "output_type": "execute_result"
    }
   ],
   "source": [
    "# read the dataset \n",
    "df = spark.read.csv('C:/Users/aero1/Downloads/ramen_rating.csv',header=True,inferSchema=True)\n",
    "df\n",
    "\n",
    "# can also this way to import data \n",
    "# df = spark.read.option('header','true').csv('C:/Users/aero1/Downloads/ramen_rating.csv',inferSchema=True)"
   ]
  },
  {
   "cell_type": "code",
   "execution_count": 6,
   "id": "012edf50",
   "metadata": {},
   "outputs": [
    {
     "name": "stdout",
     "output_type": "stream",
     "text": [
      "root\n",
      " |-- Brand: string (nullable = true)\n",
      " |-- Style: string (nullable = true)\n",
      " |-- Country: string (nullable = true)\n",
      " |-- Stars: string (nullable = true)\n",
      "\n"
     ]
    }
   ],
   "source": [
    "# check the schema()\n",
    "\n",
    "df.printSchema()"
   ]
  },
  {
   "cell_type": "code",
   "execution_count": 7,
   "id": "a3bd6814",
   "metadata": {},
   "outputs": [
    {
     "data": {
      "text/plain": [
       "['Brand', 'Style', 'Country', 'Stars']"
      ]
     },
     "execution_count": 7,
     "metadata": {},
     "output_type": "execute_result"
    }
   ],
   "source": [
    "df.columns"
   ]
  },
  {
   "cell_type": "code",
   "execution_count": 8,
   "id": "3ad11eb2",
   "metadata": {},
   "outputs": [
    {
     "data": {
      "text/plain": [
       "[Row(Brand='New Touch', Style='Cup', Country='Japan', Stars='3.75'),\n",
       " Row(Brand='Just Way', Style='Pack', Country='Taiwan', Stars='1'),\n",
       " Row(Brand='Nissin', Style='Cup', Country='USA', Stars='2.25'),\n",
       " Row(Brand='Wei Lih', Style='Pack', Country='Taiwan', Stars='2.75'),\n",
       " Row(Brand=\"Ching's Secret\", Style='Pack', Country='India', Stars='3.75')]"
      ]
     },
     "execution_count": 8,
     "metadata": {},
     "output_type": "execute_result"
    }
   ],
   "source": [
    "df.head(5)"
   ]
  },
  {
   "cell_type": "code",
   "execution_count": 9,
   "id": "344eddf8",
   "metadata": {},
   "outputs": [
    {
     "name": "stdout",
     "output_type": "stream",
     "text": [
      "+--------------+\n",
      "|         Brand|\n",
      "+--------------+\n",
      "|     New Touch|\n",
      "|      Just Way|\n",
      "|        Nissin|\n",
      "|       Wei Lih|\n",
      "|Ching's Secret|\n",
      "| Samyang Foods|\n",
      "|       Acecook|\n",
      "|   Ikeda Shoku|\n",
      "|    Ripe'n'Dry|\n",
      "|          KOKA|\n",
      "|   Tao Kae Noi|\n",
      "|      Yamachan|\n",
      "|      Nongshim|\n",
      "|        Nissin|\n",
      "|        Nissin|\n",
      "|          KOKA|\n",
      "|          TRDP|\n",
      "|      Yamachan|\n",
      "|      Binh Tay|\n",
      "|         Paldo|\n",
      "+--------------+\n",
      "only showing top 20 rows\n",
      "\n"
     ]
    }
   ],
   "source": [
    "df.select('Brand').show()"
   ]
  },
  {
   "cell_type": "code",
   "execution_count": 10,
   "id": "2cf9a361",
   "metadata": {},
   "outputs": [
    {
     "data": {
      "text/plain": [
       "Column<'Brand'>"
      ]
     },
     "execution_count": 10,
     "metadata": {},
     "output_type": "execute_result"
    }
   ],
   "source": [
    "df['Brand']"
   ]
  },
  {
   "cell_type": "code",
   "execution_count": 11,
   "id": "aeaab721",
   "metadata": {},
   "outputs": [
    {
     "data": {
      "text/plain": [
       "[('Brand', 'string'),\n",
       " ('Style', 'string'),\n",
       " ('Country', 'string'),\n",
       " ('Stars', 'string')]"
      ]
     },
     "execution_count": 11,
     "metadata": {},
     "output_type": "execute_result"
    }
   ],
   "source": [
    "df.dtypes"
   ]
  },
  {
   "cell_type": "code",
   "execution_count": 12,
   "id": "44c4b069",
   "metadata": {},
   "outputs": [
    {
     "data": {
      "text/plain": [
       "DataFrame[summary: string, Brand: string, Style: string, Country: string, Stars: string]"
      ]
     },
     "execution_count": 12,
     "metadata": {},
     "output_type": "execute_result"
    }
   ],
   "source": [
    "df.describe()"
   ]
  },
  {
   "cell_type": "code",
   "execution_count": 13,
   "id": "96a4624e",
   "metadata": {},
   "outputs": [
    {
     "name": "stdout",
     "output_type": "stream",
     "text": [
      "+-------+--------------+-----+---------+------------------+\n",
      "|summary|         Brand|Style|  Country|             Stars|\n",
      "+-------+--------------+-----+---------+------------------+\n",
      "|  count|          2580| 2578|     2580|              2580|\n",
      "|   mean|          null| null|     null| 3.654675979821498|\n",
      "| stddev|          null| null|     null|1.0153305948246278|\n",
      "|    min|1 To 3 Noodles|  Bar|Australia|                 0|\n",
      "|    max|       iNoodle| Tray|  Vietnam|           Unrated|\n",
      "+-------+--------------+-----+---------+------------------+\n",
      "\n"
     ]
    }
   ],
   "source": [
    "df.describe().show()"
   ]
  },
  {
   "cell_type": "code",
   "execution_count": 14,
   "id": "a6862b60",
   "metadata": {},
   "outputs": [
    {
     "name": "stdout",
     "output_type": "stream",
     "text": [
      "+--------------+-----+-----------+-----+--------+\n",
      "|         Brand|Style|    Country|Stars|Stars_10|\n",
      "+--------------+-----+-----------+-----+--------+\n",
      "|     New Touch|  Cup|      Japan| 3.75|    8.75|\n",
      "|      Just Way| Pack|     Taiwan|    1|     6.0|\n",
      "|        Nissin|  Cup|        USA| 2.25|    7.25|\n",
      "|       Wei Lih| Pack|     Taiwan| 2.75|    7.75|\n",
      "|Ching's Secret| Pack|      India| 3.75|    8.75|\n",
      "| Samyang Foods| Pack|South Korea| 4.75|    9.75|\n",
      "|       Acecook|  Cup|      Japan|    4|     9.0|\n",
      "|   Ikeda Shoku| Tray|      Japan| 3.75|    8.75|\n",
      "|    Ripe'n'Dry| Pack|      Japan| 0.25|    5.25|\n",
      "|          KOKA| Pack|  Singapore|  2.5|     7.5|\n",
      "|   Tao Kae Noi| Pack|   Thailand|    5|    10.0|\n",
      "|      Yamachan| Pack|        USA|    5|    10.0|\n",
      "|      Nongshim| Pack|South Korea| 4.25|    9.25|\n",
      "|        Nissin| Bowl|      Japan|  4.5|     9.5|\n",
      "|        Nissin| Pack|  Hong Kong|    5|    10.0|\n",
      "|          KOKA|  Cup|  Singapore|  3.5|     8.5|\n",
      "|          TRDP| Pack|      India| 3.75|    8.75|\n",
      "|      Yamachan| Pack|        USA|    5|    10.0|\n",
      "|      Binh Tay| Pack|    Vietnam|    4|     9.0|\n",
      "|         Paldo| Pack|South Korea|    4|     9.0|\n",
      "+--------------+-----+-----------+-----+--------+\n",
      "only showing top 20 rows\n",
      "\n"
     ]
    }
   ],
   "source": [
    "df = df.withColumn('Stars_10',df['Stars']+5)\n",
    "df.show()"
   ]
  },
  {
   "cell_type": "code",
   "execution_count": 15,
   "id": "36a1594a",
   "metadata": {},
   "outputs": [
    {
     "name": "stdout",
     "output_type": "stream",
     "text": [
      "+--------------+-----+-----------+-----+\n",
      "|         Brand|Style|    Country|Stars|\n",
      "+--------------+-----+-----------+-----+\n",
      "|     New Touch|  Cup|      Japan| 3.75|\n",
      "|      Just Way| Pack|     Taiwan|    1|\n",
      "|        Nissin|  Cup|        USA| 2.25|\n",
      "|       Wei Lih| Pack|     Taiwan| 2.75|\n",
      "|Ching's Secret| Pack|      India| 3.75|\n",
      "| Samyang Foods| Pack|South Korea| 4.75|\n",
      "|       Acecook|  Cup|      Japan|    4|\n",
      "|   Ikeda Shoku| Tray|      Japan| 3.75|\n",
      "|    Ripe'n'Dry| Pack|      Japan| 0.25|\n",
      "|          KOKA| Pack|  Singapore|  2.5|\n",
      "|   Tao Kae Noi| Pack|   Thailand|    5|\n",
      "|      Yamachan| Pack|        USA|    5|\n",
      "|      Nongshim| Pack|South Korea| 4.25|\n",
      "|        Nissin| Bowl|      Japan|  4.5|\n",
      "|        Nissin| Pack|  Hong Kong|    5|\n",
      "|          KOKA|  Cup|  Singapore|  3.5|\n",
      "|          TRDP| Pack|      India| 3.75|\n",
      "|      Yamachan| Pack|        USA|    5|\n",
      "|      Binh Tay| Pack|    Vietnam|    4|\n",
      "|         Paldo| Pack|South Korea|    4|\n",
      "+--------------+-----+-----------+-----+\n",
      "only showing top 20 rows\n",
      "\n"
     ]
    }
   ],
   "source": [
    "df = df.drop('Stars_10')\n",
    "df.show()"
   ]
  },
  {
   "cell_type": "code",
   "execution_count": 16,
   "id": "f98383a4",
   "metadata": {},
   "outputs": [
    {
     "name": "stdout",
     "output_type": "stream",
     "text": [
      "+--------------+-----+-----------+-------+\n",
      "|         Brand|Style|    Country|Stars_5|\n",
      "+--------------+-----+-----------+-------+\n",
      "|     New Touch|  Cup|      Japan|   3.75|\n",
      "|      Just Way| Pack|     Taiwan|      1|\n",
      "|        Nissin|  Cup|        USA|   2.25|\n",
      "|       Wei Lih| Pack|     Taiwan|   2.75|\n",
      "|Ching's Secret| Pack|      India|   3.75|\n",
      "| Samyang Foods| Pack|South Korea|   4.75|\n",
      "|       Acecook|  Cup|      Japan|      4|\n",
      "|   Ikeda Shoku| Tray|      Japan|   3.75|\n",
      "|    Ripe'n'Dry| Pack|      Japan|   0.25|\n",
      "|          KOKA| Pack|  Singapore|    2.5|\n",
      "|   Tao Kae Noi| Pack|   Thailand|      5|\n",
      "|      Yamachan| Pack|        USA|      5|\n",
      "|      Nongshim| Pack|South Korea|   4.25|\n",
      "|        Nissin| Bowl|      Japan|    4.5|\n",
      "|        Nissin| Pack|  Hong Kong|      5|\n",
      "|          KOKA|  Cup|  Singapore|    3.5|\n",
      "|          TRDP| Pack|      India|   3.75|\n",
      "|      Yamachan| Pack|        USA|      5|\n",
      "|      Binh Tay| Pack|    Vietnam|      4|\n",
      "|         Paldo| Pack|South Korea|      4|\n",
      "+--------------+-----+-----------+-------+\n",
      "only showing top 20 rows\n",
      "\n"
     ]
    }
   ],
   "source": [
    "df = df.withColumnRenamed('Stars','Stars_5')\n",
    "df.show()"
   ]
  },
  {
   "cell_type": "code",
   "execution_count": 17,
   "id": "2768afcd",
   "metadata": {},
   "outputs": [
    {
     "name": "stdout",
     "output_type": "stream",
     "text": [
      "+--------------+-----+-----------+-------+----------+\n",
      "|         Brand|Style|    Country|Stars_5|Percentage|\n",
      "+--------------+-----+-----------+-------+----------+\n",
      "|     New Touch|  Cup|      Japan|   3.75|      75.0|\n",
      "|      Just Way| Pack|     Taiwan|      1|      20.0|\n",
      "|        Nissin|  Cup|        USA|   2.25|      45.0|\n",
      "|       Wei Lih| Pack|     Taiwan|   2.75|      55.0|\n",
      "|Ching's Secret| Pack|      India|   3.75|      75.0|\n",
      "| Samyang Foods| Pack|South Korea|   4.75|      95.0|\n",
      "|       Acecook|  Cup|      Japan|      4|      80.0|\n",
      "|   Ikeda Shoku| Tray|      Japan|   3.75|      75.0|\n",
      "|    Ripe'n'Dry| Pack|      Japan|   0.25|       5.0|\n",
      "|          KOKA| Pack|  Singapore|    2.5|      50.0|\n",
      "|   Tao Kae Noi| Pack|   Thailand|      5|     100.0|\n",
      "|      Yamachan| Pack|        USA|      5|     100.0|\n",
      "|      Nongshim| Pack|South Korea|   4.25|      85.0|\n",
      "|        Nissin| Bowl|      Japan|    4.5|      90.0|\n",
      "|        Nissin| Pack|  Hong Kong|      5|     100.0|\n",
      "|          KOKA|  Cup|  Singapore|    3.5|      70.0|\n",
      "|          TRDP| Pack|      India|   3.75|      75.0|\n",
      "|      Yamachan| Pack|        USA|      5|     100.0|\n",
      "|      Binh Tay| Pack|    Vietnam|      4|      80.0|\n",
      "|         Paldo| Pack|South Korea|      4|      80.0|\n",
      "+--------------+-----+-----------+-------+----------+\n",
      "only showing top 20 rows\n",
      "\n"
     ]
    }
   ],
   "source": [
    "df = df.withColumn('Percentage',df.Stars_5*20)\n",
    "df.show()"
   ]
  },
  {
   "cell_type": "code",
   "execution_count": 18,
   "id": "fd734b46",
   "metadata": {},
   "outputs": [],
   "source": [
    "from pyspark.sql import functions as fs"
   ]
  },
  {
   "cell_type": "code",
   "execution_count": 19,
   "id": "c4d36202",
   "metadata": {},
   "outputs": [
    {
     "name": "stdout",
     "output_type": "stream",
     "text": [
      "+--------------+-----+-----------+-------+----------+--------------------+\n",
      "|         Brand|Style|    Country|Stars_5|Percentage|      Product (Type)|\n",
      "+--------------+-----+-----------+-------+----------+--------------------+\n",
      "|     New Touch|  Cup|      Japan|   3.75|      75.0|     New Touch (Cup)|\n",
      "|      Just Way| Pack|     Taiwan|      1|      20.0|     Just Way (Pack)|\n",
      "|        Nissin|  Cup|        USA|   2.25|      45.0|        Nissin (Cup)|\n",
      "|       Wei Lih| Pack|     Taiwan|   2.75|      55.0|      Wei Lih (Pack)|\n",
      "|Ching's Secret| Pack|      India|   3.75|      75.0|Ching's Secret (P...|\n",
      "| Samyang Foods| Pack|South Korea|   4.75|      95.0|Samyang Foods (Pack)|\n",
      "|       Acecook|  Cup|      Japan|      4|      80.0|       Acecook (Cup)|\n",
      "|   Ikeda Shoku| Tray|      Japan|   3.75|      75.0|  Ikeda Shoku (Tray)|\n",
      "|    Ripe'n'Dry| Pack|      Japan|   0.25|       5.0|   Ripe'n'Dry (Pack)|\n",
      "|          KOKA| Pack|  Singapore|    2.5|      50.0|         KOKA (Pack)|\n",
      "|   Tao Kae Noi| Pack|   Thailand|      5|     100.0|  Tao Kae Noi (Pack)|\n",
      "|      Yamachan| Pack|        USA|      5|     100.0|     Yamachan (Pack)|\n",
      "|      Nongshim| Pack|South Korea|   4.25|      85.0|     Nongshim (Pack)|\n",
      "|        Nissin| Bowl|      Japan|    4.5|      90.0|       Nissin (Bowl)|\n",
      "|        Nissin| Pack|  Hong Kong|      5|     100.0|       Nissin (Pack)|\n",
      "|          KOKA|  Cup|  Singapore|    3.5|      70.0|          KOKA (Cup)|\n",
      "|          TRDP| Pack|      India|   3.75|      75.0|         TRDP (Pack)|\n",
      "|      Yamachan| Pack|        USA|      5|     100.0|     Yamachan (Pack)|\n",
      "|      Binh Tay| Pack|    Vietnam|      4|      80.0|     Binh Tay (Pack)|\n",
      "|         Paldo| Pack|South Korea|      4|      80.0|        Paldo (Pack)|\n",
      "+--------------+-----+-----------+-------+----------+--------------------+\n",
      "only showing top 20 rows\n",
      "\n"
     ]
    }
   ],
   "source": [
    "df = df.withColumn('Product (Type)',fs.concat(df.Brand,fs.lit(' ('),df.Style,fs.lit(')')))\n",
    "df.show()"
   ]
  },
  {
   "cell_type": "code",
   "execution_count": 20,
   "id": "e7581634",
   "metadata": {},
   "outputs": [
    {
     "data": {
      "text/plain": [
       "2580"
      ]
     },
     "execution_count": 20,
     "metadata": {},
     "output_type": "execute_result"
    }
   ],
   "source": [
    "df.count()"
   ]
  },
  {
   "cell_type": "code",
   "execution_count": 21,
   "id": "d7e92c04",
   "metadata": {},
   "outputs": [
    {
     "name": "stdout",
     "output_type": "stream",
     "text": [
      "+--------------+-----+-----------+-------+----------+--------------------+\n",
      "|         Brand|Style|    Country|Stars_5|Percentage|      Product (Type)|\n",
      "+--------------+-----+-----------+-------+----------+--------------------+\n",
      "|     New Touch|  Cup|      Japan|   3.75|      75.0|     New Touch (Cup)|\n",
      "|      Just Way| Pack|     Taiwan|    1.0|      20.0|     Just Way (Pack)|\n",
      "|        Nissin|  Cup|        USA|   2.25|      45.0|        Nissin (Cup)|\n",
      "|       Wei Lih| Pack|     Taiwan|   2.75|      55.0|      Wei Lih (Pack)|\n",
      "|Ching's Secret| Pack|      India|   3.75|      75.0|Ching's Secret (P...|\n",
      "| Samyang Foods| Pack|South Korea|   4.75|      95.0|Samyang Foods (Pack)|\n",
      "|       Acecook|  Cup|      Japan|    4.0|      80.0|       Acecook (Cup)|\n",
      "|   Ikeda Shoku| Tray|      Japan|   3.75|      75.0|  Ikeda Shoku (Tray)|\n",
      "|    Ripe'n'Dry| Pack|      Japan|   0.25|       5.0|   Ripe'n'Dry (Pack)|\n",
      "|          KOKA| Pack|  Singapore|    2.5|      50.0|         KOKA (Pack)|\n",
      "|   Tao Kae Noi| Pack|   Thailand|    5.0|     100.0|  Tao Kae Noi (Pack)|\n",
      "|      Yamachan| Pack|        USA|    5.0|     100.0|     Yamachan (Pack)|\n",
      "|      Nongshim| Pack|South Korea|   4.25|      85.0|     Nongshim (Pack)|\n",
      "|        Nissin| Bowl|      Japan|    4.5|      90.0|       Nissin (Bowl)|\n",
      "|        Nissin| Pack|  Hong Kong|    5.0|     100.0|       Nissin (Pack)|\n",
      "|          KOKA|  Cup|  Singapore|    3.5|      70.0|          KOKA (Cup)|\n",
      "|          TRDP| Pack|      India|   3.75|      75.0|         TRDP (Pack)|\n",
      "|      Yamachan| Pack|        USA|    5.0|     100.0|     Yamachan (Pack)|\n",
      "|      Binh Tay| Pack|    Vietnam|    4.0|      80.0|     Binh Tay (Pack)|\n",
      "|         Paldo| Pack|South Korea|    4.0|      80.0|        Paldo (Pack)|\n",
      "+--------------+-----+-----------+-------+----------+--------------------+\n",
      "only showing top 20 rows\n",
      "\n"
     ]
    }
   ],
   "source": [
    "# changing data type for Stars_5 from string to float\n",
    "\n",
    "df = df.withColumn('Stars_5', df['Stars_5'].cast('float').alias('Stars_5'))\n",
    "df.show()"
   ]
  },
  {
   "cell_type": "code",
   "execution_count": 22,
   "id": "2f7ef685",
   "metadata": {},
   "outputs": [
    {
     "name": "stdout",
     "output_type": "stream",
     "text": [
      "+--------------+-----+-----------+-------+----------+\n",
      "|         Brand|Style|    Country|Stars_5|Percentage|\n",
      "+--------------+-----+-----------+-------+----------+\n",
      "|     New Touch|  Cup|      Japan|   3.75|      75.0|\n",
      "|      Just Way| Pack|     Taiwan|    1.0|      20.0|\n",
      "|        Nissin|  Cup|        USA|   2.25|      45.0|\n",
      "|       Wei Lih| Pack|     Taiwan|   2.75|      55.0|\n",
      "|Ching's Secret| Pack|      India|   3.75|      75.0|\n",
      "| Samyang Foods| Pack|South Korea|   4.75|      95.0|\n",
      "|       Acecook|  Cup|      Japan|    4.0|      80.0|\n",
      "|   Ikeda Shoku| Tray|      Japan|   3.75|      75.0|\n",
      "|    Ripe'n'Dry| Pack|      Japan|   0.25|       5.0|\n",
      "|          KOKA| Pack|  Singapore|    2.5|      50.0|\n",
      "|   Tao Kae Noi| Pack|   Thailand|    5.0|     100.0|\n",
      "|      Yamachan| Pack|        USA|    5.0|     100.0|\n",
      "|      Nongshim| Pack|South Korea|   4.25|      85.0|\n",
      "|        Nissin| Bowl|      Japan|    4.5|      90.0|\n",
      "|        Nissin| Pack|  Hong Kong|    5.0|     100.0|\n",
      "|          KOKA|  Cup|  Singapore|    3.5|      70.0|\n",
      "|          TRDP| Pack|      India|   3.75|      75.0|\n",
      "|      Yamachan| Pack|        USA|    5.0|     100.0|\n",
      "|      Binh Tay| Pack|    Vietnam|    4.0|      80.0|\n",
      "|         Paldo| Pack|South Korea|    4.0|      80.0|\n",
      "+--------------+-----+-----------+-------+----------+\n",
      "only showing top 20 rows\n",
      "\n"
     ]
    }
   ],
   "source": [
    "# droping the column Product (Type)\n",
    "\n",
    "df = df.drop('Product (Type)')\n",
    "df.show()"
   ]
  },
  {
   "cell_type": "code",
   "execution_count": 23,
   "id": "b1dcef6c",
   "metadata": {},
   "outputs": [
    {
     "name": "stdout",
     "output_type": "stream",
     "text": [
      "+-----+------------------+\n",
      "|Style|      avg(Stars_5)|\n",
      "+-----+------------------+\n",
      "| Bowl| 3.670686070983474|\n",
      "|  Bar|               5.0|\n",
      "|  Box| 4.291666666666667|\n",
      "| null|             3.375|\n",
      "| Pack|3.7004581151374114|\n",
      "|  Cup| 3.498500000635783|\n",
      "| Tray| 3.545138888888889|\n",
      "|  Can|               3.5|\n",
      "+-----+------------------+\n",
      "\n"
     ]
    }
   ],
   "source": [
    "# calculating the average based on Style column \n",
    "\n",
    "df.groupBy('Style').avg('Stars_5').show()"
   ]
  },
  {
   "cell_type": "code",
   "execution_count": 24,
   "id": "b2e13fc7",
   "metadata": {},
   "outputs": [],
   "source": [
    "df.createTempView(\"temp\")   #creating view "
   ]
  },
  {
   "cell_type": "code",
   "execution_count": 25,
   "id": "b3ec6fad",
   "metadata": {},
   "outputs": [
    {
     "name": "stdout",
     "output_type": "stream",
     "text": [
      "+-----+\n",
      "|Style|\n",
      "+-----+\n",
      "| Bowl|\n",
      "|  Bar|\n",
      "|  Box|\n",
      "| null|\n",
      "| Pack|\n",
      "|  Cup|\n",
      "| Tray|\n",
      "|  Can|\n",
      "+-----+\n",
      "\n"
     ]
    }
   ],
   "source": [
    "x = spark.sql(\"SELECT distinct Style from temp\")\n",
    "x.show()"
   ]
  },
  {
   "cell_type": "code",
   "execution_count": 26,
   "id": "c5cb23ac",
   "metadata": {},
   "outputs": [],
   "source": [
    "df_sql = spark.sql(\"SELECT *, avg(Stars_5) over(PARTITION BY Style) as Average FROM temp order by Brand asc, Country desc\")"
   ]
  },
  {
   "cell_type": "code",
   "execution_count": 27,
   "id": "7ef8475f",
   "metadata": {
    "scrolled": true
   },
   "outputs": [
    {
     "data": {
      "text/plain": [
       "pyspark.sql.dataframe.DataFrame"
      ]
     },
     "execution_count": 27,
     "metadata": {},
     "output_type": "execute_result"
    }
   ],
   "source": [
    "type(df_sql)"
   ]
  },
  {
   "cell_type": "code",
   "execution_count": 28,
   "id": "c287c284",
   "metadata": {
    "scrolled": true
   },
   "outputs": [
    {
     "data": {
      "text/plain": [
       "[('Brand', 'string'),\n",
       " ('Style', 'string'),\n",
       " ('Country', 'string'),\n",
       " ('Stars_5', 'float'),\n",
       " ('Percentage', 'double'),\n",
       " ('Average', 'double')]"
      ]
     },
     "execution_count": 28,
     "metadata": {},
     "output_type": "execute_result"
    }
   ],
   "source": [
    "df_sql.dtypes"
   ]
  },
  {
   "cell_type": "code",
   "execution_count": 29,
   "id": "ea06ea85",
   "metadata": {},
   "outputs": [],
   "source": [
    "df_sql = df_sql.select('Average', df_sql['Average'].cast('float').alias('Average'))"
   ]
  },
  {
   "cell_type": "code",
   "execution_count": 30,
   "id": "197c7f9e",
   "metadata": {},
   "outputs": [
    {
     "name": "stdout",
     "output_type": "stream",
     "text": [
      "+------------------+--------+\n",
      "|           Average| Average|\n",
      "+------------------+--------+\n",
      "|3.7004581151374114|3.700458|\n",
      "| 3.670686070983474|3.670686|\n",
      "| 3.670686070983474|3.670686|\n",
      "| 3.498500000635783|  3.4985|\n",
      "| 3.498500000635783|  3.4985|\n",
      "| 3.498500000635783|  3.4985|\n",
      "| 3.498500000635783|  3.4985|\n",
      "| 3.498500000635783|  3.4985|\n",
      "|3.7004581151374114|3.700458|\n",
      "|3.7004581151374114|3.700458|\n",
      "|3.7004581151374114|3.700458|\n",
      "|3.7004581151374114|3.700458|\n",
      "|3.7004581151374114|3.700458|\n",
      "|3.7004581151374114|3.700458|\n",
      "|3.7004581151374114|3.700458|\n",
      "|3.7004581151374114|3.700458|\n",
      "|3.7004581151374114|3.700458|\n",
      "|3.7004581151374114|3.700458|\n",
      "|3.7004581151374114|3.700458|\n",
      "|3.7004581151374114|3.700458|\n",
      "+------------------+--------+\n",
      "only showing top 20 rows\n",
      "\n"
     ]
    }
   ],
   "source": [
    "# adding average column based on starts and groupBy of style\n",
    "#df2.withColumn('Average', fs.round(df2['Average']))\n",
    "\n",
    "df_sql.show()"
   ]
  },
  {
   "cell_type": "code",
   "execution_count": 31,
   "id": "ca49c68f",
   "metadata": {},
   "outputs": [
    {
     "name": "stdout",
     "output_type": "stream",
     "text": [
      "+--------------+-----+-----------+-------+----------+\n",
      "|         Brand|Style|    Country|Stars_5|Percentage|\n",
      "+--------------+-----+-----------+-------+----------+\n",
      "|     New Touch|  Cup|      Japan|   3.75|      75.0|\n",
      "|      Just Way| Pack|     Taiwan|    1.0|      20.0|\n",
      "|        Nissin|  Cup|        USA|   2.25|      45.0|\n",
      "|       Wei Lih| Pack|     Taiwan|   2.75|      55.0|\n",
      "|Ching's Secret| Pack|      India|   3.75|      75.0|\n",
      "| Samyang Foods| Pack|South Korea|   4.75|      95.0|\n",
      "|       Acecook|  Cup|      Japan|    4.0|      80.0|\n",
      "|   Ikeda Shoku| Tray|      Japan|   3.75|      75.0|\n",
      "|    Ripe'n'Dry| Pack|      Japan|   0.25|       5.0|\n",
      "|          KOKA| Pack|  Singapore|    2.5|      50.0|\n",
      "|   Tao Kae Noi| Pack|   Thailand|    5.0|     100.0|\n",
      "|      Yamachan| Pack|        USA|    5.0|     100.0|\n",
      "|      Nongshim| Pack|South Korea|   4.25|      85.0|\n",
      "|        Nissin| Bowl|      Japan|    4.5|      90.0|\n",
      "|        Nissin| Pack|  Hong Kong|    5.0|     100.0|\n",
      "|          KOKA|  Cup|  Singapore|    3.5|      70.0|\n",
      "|          TRDP| Pack|      India|   3.75|      75.0|\n",
      "|      Yamachan| Pack|        USA|    5.0|     100.0|\n",
      "|      Binh Tay| Pack|    Vietnam|    4.0|      80.0|\n",
      "|         Paldo| Pack|South Korea|    4.0|      80.0|\n",
      "+--------------+-----+-----------+-------+----------+\n",
      "only showing top 20 rows\n",
      "\n"
     ]
    }
   ],
   "source": [
    "df.show()"
   ]
  },
  {
   "cell_type": "code",
   "execution_count": 32,
   "id": "eacfbb4b",
   "metadata": {},
   "outputs": [
    {
     "name": "stdout",
     "output_type": "stream",
     "text": [
      "+------+-----+-------+-------+----------+\n",
      "| Brand|Style|Country|Stars_5|Percentage|\n",
      "+------+-----+-------+-------+----------+\n",
      "|Kamfen| null|  China|   3.75|      75.0|\n",
      "|  Unif| null| Taiwan|    3.0|      60.0|\n",
      "+------+-----+-------+-------+----------+\n",
      "\n"
     ]
    }
   ],
   "source": [
    "df.filter(\"Style is NULL\").show()"
   ]
  },
  {
   "cell_type": "code",
   "execution_count": 33,
   "id": "ec65580c",
   "metadata": {},
   "outputs": [
    {
     "name": "stdout",
     "output_type": "stream",
     "text": [
      "+--------------+-----+-----------+-------+\n",
      "|         Brand|Style|    Country|Stars_5|\n",
      "+--------------+-----+-----------+-------+\n",
      "|     New Touch|  Cup|      Japan|   3.75|\n",
      "|      Just Way| Pack|     Taiwan|    1.0|\n",
      "|        Nissin|  Cup|        USA|   2.25|\n",
      "|       Wei Lih| Pack|     Taiwan|   2.75|\n",
      "|Ching's Secret| Pack|      India|   3.75|\n",
      "| Samyang Foods| Pack|South Korea|   4.75|\n",
      "|       Acecook|  Cup|      Japan|    4.0|\n",
      "|   Ikeda Shoku| Tray|      Japan|   3.75|\n",
      "|    Ripe'n'Dry| Pack|      Japan|   0.25|\n",
      "|          KOKA| Pack|  Singapore|    2.5|\n",
      "|   Tao Kae Noi| Pack|   Thailand|    5.0|\n",
      "|      Yamachan| Pack|        USA|    5.0|\n",
      "|      Nongshim| Pack|South Korea|   4.25|\n",
      "|        Nissin| Bowl|      Japan|    4.5|\n",
      "|        Nissin| Pack|  Hong Kong|    5.0|\n",
      "|          KOKA|  Cup|  Singapore|    3.5|\n",
      "|          TRDP| Pack|      India|   3.75|\n",
      "|      Yamachan| Pack|        USA|    5.0|\n",
      "|      Binh Tay| Pack|    Vietnam|    4.0|\n",
      "|         Paldo| Pack|South Korea|    4.0|\n",
      "+--------------+-----+-----------+-------+\n",
      "only showing top 20 rows\n",
      "\n"
     ]
    }
   ],
   "source": [
    "df.drop('Percentage').show()"
   ]
  },
  {
   "cell_type": "code",
   "execution_count": 34,
   "id": "c9d2e2c1",
   "metadata": {},
   "outputs": [
    {
     "data": {
      "text/plain": [
       "2580"
      ]
     },
     "execution_count": 34,
     "metadata": {},
     "output_type": "execute_result"
    }
   ],
   "source": [
    "df.count()"
   ]
  },
  {
   "cell_type": "code",
   "execution_count": 35,
   "id": "2f4c3145",
   "metadata": {},
   "outputs": [],
   "source": [
    "df = df.na.drop(how='all')"
   ]
  },
  {
   "cell_type": "code",
   "execution_count": 36,
   "id": "c259fc41",
   "metadata": {},
   "outputs": [
    {
     "data": {
      "text/plain": [
       "2580"
      ]
     },
     "execution_count": 36,
     "metadata": {},
     "output_type": "execute_result"
    }
   ],
   "source": [
    "df.count()    #all count"
   ]
  },
  {
   "cell_type": "code",
   "execution_count": 37,
   "id": "6f06c091",
   "metadata": {},
   "outputs": [
    {
     "data": {
      "text/plain": [
       "2578"
      ]
     },
     "execution_count": 37,
     "metadata": {},
     "output_type": "execute_result"
    }
   ],
   "source": [
    "df.filter(df.Style.isNotNull()).count()"
   ]
  },
  {
   "cell_type": "code",
   "execution_count": 38,
   "id": "65d4d034",
   "metadata": {},
   "outputs": [
    {
     "data": {
      "text/plain": [
       "2580"
      ]
     },
     "execution_count": 38,
     "metadata": {},
     "output_type": "execute_result"
    }
   ],
   "source": [
    "df.filter(df.Brand.isNotNull()).count()"
   ]
  },
  {
   "cell_type": "code",
   "execution_count": 39,
   "id": "7399cfd1",
   "metadata": {},
   "outputs": [
    {
     "data": {
      "text/plain": [
       "2575"
      ]
     },
     "execution_count": 39,
     "metadata": {},
     "output_type": "execute_result"
    }
   ],
   "source": [
    "df.na.drop(how='any').count()"
   ]
  },
  {
   "cell_type": "code",
   "execution_count": 40,
   "id": "e4e4d1c3",
   "metadata": {},
   "outputs": [
    {
     "name": "stdout",
     "output_type": "stream",
     "text": [
      "+--------------+-----+-----------+-------+----------+\n",
      "|         Brand|Style|    Country|Stars_5|Percentage|\n",
      "+--------------+-----+-----------+-------+----------+\n",
      "|     New Touch|  Cup|      Japan|   3.75|      75.0|\n",
      "|      Just Way| Pack|     Taiwan|    1.0|      20.0|\n",
      "|        Nissin|  Cup|        USA|   2.25|      45.0|\n",
      "|       Wei Lih| Pack|     Taiwan|   2.75|      55.0|\n",
      "|Ching's Secret| Pack|      India|   3.75|      75.0|\n",
      "| Samyang Foods| Pack|South Korea|   4.75|      95.0|\n",
      "|       Acecook|  Cup|      Japan|    4.0|      80.0|\n",
      "|   Ikeda Shoku| Tray|      Japan|   3.75|      75.0|\n",
      "|    Ripe'n'Dry| Pack|      Japan|   0.25|       5.0|\n",
      "|          KOKA| Pack|  Singapore|    2.5|      50.0|\n",
      "|   Tao Kae Noi| Pack|   Thailand|    5.0|     100.0|\n",
      "|      Yamachan| Pack|        USA|    5.0|     100.0|\n",
      "|      Nongshim| Pack|South Korea|   4.25|      85.0|\n",
      "|        Nissin| Bowl|      Japan|    4.5|      90.0|\n",
      "|        Nissin| Pack|  Hong Kong|    5.0|     100.0|\n",
      "|          KOKA|  Cup|  Singapore|    3.5|      70.0|\n",
      "|          TRDP| Pack|      India|   3.75|      75.0|\n",
      "|      Yamachan| Pack|        USA|    5.0|     100.0|\n",
      "|      Binh Tay| Pack|    Vietnam|    4.0|      80.0|\n",
      "|         Paldo| Pack|South Korea|    4.0|      80.0|\n",
      "+--------------+-----+-----------+-------+----------+\n",
      "only showing top 20 rows\n",
      "\n"
     ]
    }
   ],
   "source": [
    "df.show()"
   ]
  },
  {
   "cell_type": "markdown",
   "id": "8a403ea8",
   "metadata": {},
   "source": [
    "## Filter Operations "
   ]
  },
  {
   "cell_type": "code",
   "execution_count": 41,
   "id": "e24a2b82",
   "metadata": {},
   "outputs": [],
   "source": [
    "from pyspark.ml.feature import Imputer as IM\n",
    "im = IM(\n",
    "    inputCols = ['Stars_5','Percentage'],\n",
    "    outputCols = [\"{}_imputed\".format(c) for c in ['Stars_5','Percentage']]).setStrategy(\"mean\")"
   ]
  },
  {
   "cell_type": "code",
   "execution_count": 42,
   "id": "66cbbf96",
   "metadata": {},
   "outputs": [
    {
     "name": "stdout",
     "output_type": "stream",
     "text": [
      "+--------------+-----+-----------+-------+----------+---------------+------------------+\n",
      "|         Brand|Style|    Country|Stars_5|Percentage|Stars_5_imputed|Percentage_imputed|\n",
      "+--------------+-----+-----------+-------+----------+---------------+------------------+\n",
      "|     New Touch|  Cup|      Japan|   3.75|      75.0|           3.75|              75.0|\n",
      "|      Just Way| Pack|     Taiwan|    1.0|      20.0|            1.0|              20.0|\n",
      "|        Nissin|  Cup|        USA|   2.25|      45.0|           2.25|              45.0|\n",
      "|       Wei Lih| Pack|     Taiwan|   2.75|      55.0|           2.75|              55.0|\n",
      "|Ching's Secret| Pack|      India|   3.75|      75.0|           3.75|              75.0|\n",
      "| Samyang Foods| Pack|South Korea|   4.75|      95.0|           4.75|              95.0|\n",
      "|       Acecook|  Cup|      Japan|    4.0|      80.0|            4.0|              80.0|\n",
      "|   Ikeda Shoku| Tray|      Japan|   3.75|      75.0|           3.75|              75.0|\n",
      "|    Ripe'n'Dry| Pack|      Japan|   0.25|       5.0|           0.25|               5.0|\n",
      "|          KOKA| Pack|  Singapore|    2.5|      50.0|            2.5|              50.0|\n",
      "|   Tao Kae Noi| Pack|   Thailand|    5.0|     100.0|            5.0|             100.0|\n",
      "|      Yamachan| Pack|        USA|    5.0|     100.0|            5.0|             100.0|\n",
      "|      Nongshim| Pack|South Korea|   4.25|      85.0|           4.25|              85.0|\n",
      "|        Nissin| Bowl|      Japan|    4.5|      90.0|            4.5|              90.0|\n",
      "|        Nissin| Pack|  Hong Kong|    5.0|     100.0|            5.0|             100.0|\n",
      "|          KOKA|  Cup|  Singapore|    3.5|      70.0|            3.5|              70.0|\n",
      "|          TRDP| Pack|      India|   3.75|      75.0|           3.75|              75.0|\n",
      "|      Yamachan| Pack|        USA|    5.0|     100.0|            5.0|             100.0|\n",
      "|      Binh Tay| Pack|    Vietnam|    4.0|      80.0|            4.0|              80.0|\n",
      "|         Paldo| Pack|South Korea|    4.0|      80.0|            4.0|              80.0|\n",
      "+--------------+-----+-----------+-------+----------+---------------+------------------+\n",
      "only showing top 20 rows\n",
      "\n"
     ]
    }
   ],
   "source": [
    "im.fit(df).transform(df).show()"
   ]
  },
  {
   "cell_type": "code",
   "execution_count": 43,
   "id": "8ef66cac",
   "metadata": {},
   "outputs": [
    {
     "name": "stdout",
     "output_type": "stream",
     "text": [
      "+--------------+-----+-----------+-------+----------+\n",
      "|         Brand|Style|    Country|Stars_5|Percentage|\n",
      "+--------------+-----+-----------+-------+----------+\n",
      "|     New Touch|  Cup|      Japan|   3.75|      75.0|\n",
      "|      Just Way| Pack|     Taiwan|    1.0|      20.0|\n",
      "|        Nissin|  Cup|        USA|   2.25|      45.0|\n",
      "|       Wei Lih| Pack|     Taiwan|   2.75|      55.0|\n",
      "|Ching's Secret| Pack|      India|   3.75|      75.0|\n",
      "| Samyang Foods| Pack|South Korea|   4.75|      95.0|\n",
      "|       Acecook|  Cup|      Japan|    4.0|      80.0|\n",
      "|   Ikeda Shoku| Tray|      Japan|   3.75|      75.0|\n",
      "|    Ripe'n'Dry| Pack|      Japan|   0.25|       5.0|\n",
      "|          KOKA| Pack|  Singapore|    2.5|      50.0|\n",
      "|   Tao Kae Noi| Pack|   Thailand|    5.0|     100.0|\n",
      "|      Yamachan| Pack|        USA|    5.0|     100.0|\n",
      "|      Nongshim| Pack|South Korea|   4.25|      85.0|\n",
      "|        Nissin| Bowl|      Japan|    4.5|      90.0|\n",
      "|        Nissin| Pack|  Hong Kong|    5.0|     100.0|\n",
      "|          KOKA|  Cup|  Singapore|    3.5|      70.0|\n",
      "|          TRDP| Pack|      India|   3.75|      75.0|\n",
      "|      Yamachan| Pack|        USA|    5.0|     100.0|\n",
      "|      Binh Tay| Pack|    Vietnam|    4.0|      80.0|\n",
      "|         Paldo| Pack|South Korea|    4.0|      80.0|\n",
      "+--------------+-----+-----------+-------+----------+\n",
      "only showing top 20 rows\n",
      "\n"
     ]
    }
   ],
   "source": [
    "df.show()"
   ]
  },
  {
   "cell_type": "code",
   "execution_count": 44,
   "id": "330d5d0e",
   "metadata": {},
   "outputs": [
    {
     "name": "stdout",
     "output_type": "stream",
     "text": [
      "+----------------+-----+-----------+-------+----------+\n",
      "|           Brand|Style|    Country|Stars_5|Percentage|\n",
      "+----------------+-----+-----------+-------+----------+\n",
      "|       New Touch|  Cup|      Japan|   3.75|      75.0|\n",
      "|          Nissin|  Cup|        USA|   2.25|      45.0|\n",
      "|         Wei Lih| Pack|     Taiwan|   2.75|      55.0|\n",
      "|  Ching's Secret| Pack|      India|   3.75|      75.0|\n",
      "|   Samyang Foods| Pack|South Korea|   4.75|      95.0|\n",
      "|         Acecook|  Cup|      Japan|    4.0|      80.0|\n",
      "|     Ikeda Shoku| Tray|      Japan|   3.75|      75.0|\n",
      "|            KOKA| Pack|  Singapore|    2.5|      50.0|\n",
      "|     Tao Kae Noi| Pack|   Thailand|    5.0|     100.0|\n",
      "|        Yamachan| Pack|        USA|    5.0|     100.0|\n",
      "|        Nongshim| Pack|South Korea|   4.25|      85.0|\n",
      "|          Nissin| Bowl|      Japan|    4.5|      90.0|\n",
      "|          Nissin| Pack|  Hong Kong|    5.0|     100.0|\n",
      "|            KOKA|  Cup|  Singapore|    3.5|      70.0|\n",
      "|            TRDP| Pack|      India|   3.75|      75.0|\n",
      "|        Yamachan| Pack|        USA|    5.0|     100.0|\n",
      "|        Binh Tay| Pack|    Vietnam|    4.0|      80.0|\n",
      "|           Paldo| Pack|South Korea|    4.0|      80.0|\n",
      "|          Nissin|  Cup|  Hong Kong|   4.25|      85.0|\n",
      "|Jackpot Teriyaki| Pack|        USA|    5.0|     100.0|\n",
      "+----------------+-----+-----------+-------+----------+\n",
      "only showing top 20 rows\n",
      "\n"
     ]
    }
   ],
   "source": [
    "df.filter('Stars_5>1.5').show()"
   ]
  },
  {
   "cell_type": "code",
   "execution_count": 45,
   "id": "05472f14",
   "metadata": {},
   "outputs": [
    {
     "name": "stdout",
     "output_type": "stream",
     "text": [
      "+-----------------+-----+-----------+-------+----------+\n",
      "|            Brand|Style|    Country|Stars_5|Percentage|\n",
      "+-----------------+-----+-----------+-------+----------+\n",
      "|           Nissin|  Cup|        USA|   2.25|      45.0|\n",
      "|          Wei Lih| Pack|     Taiwan|   2.75|      55.0|\n",
      "|             KOKA| Pack|  Singapore|    2.5|      50.0|\n",
      "|           Ottogi| Pack|South Korea|    2.0|      40.0|\n",
      "|     Tokyo Noodle| Pack|      Japan|    2.0|      40.0|\n",
      "|             Wang| Bowl|South Korea|    2.0|      40.0|\n",
      "|        Ajinatori| Pack|      Japan|    2.5|      50.0|\n",
      "|           Nissin|  Cup|  Hong Kong|    2.5|      50.0|\n",
      "|           Nissin|  Cup|        USA|    2.5|      50.0|\n",
      "|          Wai Wai| Pack|      India|    2.0|      40.0|\n",
      "|          Daikoku|  Cup|      Japan|    2.0|      40.0|\n",
      "|        Shirakiku| Pack|        USA|    2.0|      40.0|\n",
      "|             Fuku| Pack|  Hong Kong|    2.3|      46.0|\n",
      "|Mr. Lee's Noodles|  Cup|         UK|    2.0|      40.0|\n",
      "|         Singa-Me|  Cup|  Australia|    2.5|      50.0|\n",
      "|   President Rice| Bowl|   Thailand|   2.75|      55.0|\n",
      "| A-Sha Dry Noodle| Tray|     Taiwan|    2.0|      40.0|\n",
      "|             Doll| Pack|  Hong Kong|    2.0|      40.0|\n",
      "|           Suimin|  Cup|  Australia|   2.25|      45.0|\n",
      "|      Oni Hot Pot| Pack|     Taiwan|    2.0|      40.0|\n",
      "+-----------------+-----+-----------+-------+----------+\n",
      "only showing top 20 rows\n",
      "\n"
     ]
    }
   ],
   "source": [
    "df.filter(\"Stars_5<3 and Stars_5>1.5\").show()"
   ]
  },
  {
   "cell_type": "code",
   "execution_count": 46,
   "id": "c270c828",
   "metadata": {},
   "outputs": [
    {
     "name": "stdout",
     "output_type": "stream",
     "text": [
      "+-----------------+-----+\n",
      "|            Brand|Style|\n",
      "+-----------------+-----+\n",
      "|           Nissin|  Cup|\n",
      "|          Wei Lih| Pack|\n",
      "|             KOKA| Pack|\n",
      "|           Ottogi| Pack|\n",
      "|     Tokyo Noodle| Pack|\n",
      "|             Wang| Bowl|\n",
      "|        Ajinatori| Pack|\n",
      "|           Nissin|  Cup|\n",
      "|           Nissin|  Cup|\n",
      "|          Wai Wai| Pack|\n",
      "|          Daikoku|  Cup|\n",
      "|        Shirakiku| Pack|\n",
      "|             Fuku| Pack|\n",
      "|Mr. Lee's Noodles|  Cup|\n",
      "|         Singa-Me|  Cup|\n",
      "|   President Rice| Bowl|\n",
      "| A-Sha Dry Noodle| Tray|\n",
      "|             Doll| Pack|\n",
      "|           Suimin|  Cup|\n",
      "|      Oni Hot Pot| Pack|\n",
      "+-----------------+-----+\n",
      "only showing top 20 rows\n",
      "\n"
     ]
    }
   ],
   "source": [
    "df.filter(\"Stars_5<3 and Stars_5>1.5\").select(['Brand','Style']).show()"
   ]
  },
  {
   "cell_type": "code",
   "execution_count": 47,
   "id": "25cc1f78",
   "metadata": {},
   "outputs": [
    {
     "name": "stdout",
     "output_type": "stream",
     "text": [
      "+-----------------+-----+-----------+-------+----------+\n",
      "|            Brand|Style|    Country|Stars_5|Percentage|\n",
      "+-----------------+-----+-----------+-------+----------+\n",
      "|           Nissin|  Cup|        USA|   2.25|      45.0|\n",
      "|          Wei Lih| Pack|     Taiwan|   2.75|      55.0|\n",
      "|             KOKA| Pack|  Singapore|    2.5|      50.0|\n",
      "|           Ottogi| Pack|South Korea|    2.0|      40.0|\n",
      "|     Tokyo Noodle| Pack|      Japan|    2.0|      40.0|\n",
      "|             Wang| Bowl|South Korea|    2.0|      40.0|\n",
      "|        Ajinatori| Pack|      Japan|    2.5|      50.0|\n",
      "|           Nissin|  Cup|  Hong Kong|    2.5|      50.0|\n",
      "|           Nissin|  Cup|        USA|    2.5|      50.0|\n",
      "|          Wai Wai| Pack|      India|    2.0|      40.0|\n",
      "|          Daikoku|  Cup|      Japan|    2.0|      40.0|\n",
      "|        Shirakiku| Pack|        USA|    2.0|      40.0|\n",
      "|             Fuku| Pack|  Hong Kong|    2.3|      46.0|\n",
      "|Mr. Lee's Noodles|  Cup|         UK|    2.0|      40.0|\n",
      "|         Singa-Me|  Cup|  Australia|    2.5|      50.0|\n",
      "|   President Rice| Bowl|   Thailand|   2.75|      55.0|\n",
      "| A-Sha Dry Noodle| Tray|     Taiwan|    2.0|      40.0|\n",
      "|             Doll| Pack|  Hong Kong|    2.0|      40.0|\n",
      "|           Suimin|  Cup|  Australia|   2.25|      45.0|\n",
      "|      Oni Hot Pot| Pack|     Taiwan|    2.0|      40.0|\n",
      "+-----------------+-----+-----------+-------+----------+\n",
      "only showing top 20 rows\n",
      "\n"
     ]
    }
   ],
   "source": [
    "df.filter((df['Stars_5']>1.5) & (df['Stars_5']<3)).show()"
   ]
  },
  {
   "cell_type": "code",
   "execution_count": 48,
   "id": "410c8865",
   "metadata": {},
   "outputs": [
    {
     "name": "stdout",
     "output_type": "stream",
     "text": [
      "+----------------+-----+-----------+-------+----------+\n",
      "|           Brand|Style|    Country|Stars_5|Percentage|\n",
      "+----------------+-----+-----------+-------+----------+\n",
      "|       New Touch|  Cup|      Japan|   3.75|      75.0|\n",
      "|          Nissin|  Cup|        USA|   2.25|      45.0|\n",
      "|         Wei Lih| Pack|     Taiwan|   2.75|      55.0|\n",
      "|  Ching's Secret| Pack|      India|   3.75|      75.0|\n",
      "|   Samyang Foods| Pack|South Korea|   4.75|      95.0|\n",
      "|         Acecook|  Cup|      Japan|    4.0|      80.0|\n",
      "|     Ikeda Shoku| Tray|      Japan|   3.75|      75.0|\n",
      "|            KOKA| Pack|  Singapore|    2.5|      50.0|\n",
      "|     Tao Kae Noi| Pack|   Thailand|    5.0|     100.0|\n",
      "|        Yamachan| Pack|        USA|    5.0|     100.0|\n",
      "|        Nongshim| Pack|South Korea|   4.25|      85.0|\n",
      "|          Nissin| Bowl|      Japan|    4.5|      90.0|\n",
      "|          Nissin| Pack|  Hong Kong|    5.0|     100.0|\n",
      "|            KOKA|  Cup|  Singapore|    3.5|      70.0|\n",
      "|            TRDP| Pack|      India|   3.75|      75.0|\n",
      "|        Yamachan| Pack|        USA|    5.0|     100.0|\n",
      "|        Binh Tay| Pack|    Vietnam|    4.0|      80.0|\n",
      "|           Paldo| Pack|South Korea|    4.0|      80.0|\n",
      "|          Nissin|  Cup|  Hong Kong|   4.25|      85.0|\n",
      "|Jackpot Teriyaki| Pack|        USA|    5.0|     100.0|\n",
      "+----------------+-----+-----------+-------+----------+\n",
      "only showing top 20 rows\n",
      "\n"
     ]
    }
   ],
   "source": [
    "df.filter(df['Stars_5']>2).show()"
   ]
  },
  {
   "cell_type": "code",
   "execution_count": 49,
   "id": "dd527542",
   "metadata": {},
   "outputs": [
    {
     "name": "stdout",
     "output_type": "stream",
     "text": [
      "+----------------+-----+-----------+-------+----------+\n",
      "|           Brand|Style|    Country|Stars_5|Percentage|\n",
      "+----------------+-----+-----------+-------+----------+\n",
      "|        Just Way| Pack|     Taiwan|    1.0|      20.0|\n",
      "|      Ripe'n'Dry| Pack|      Japan|   0.25|       5.0|\n",
      "|          Lipton|  Box|        USA|    1.5|      30.0|\n",
      "|         Acecook| Tray|      Japan|    1.5|      30.0|\n",
      "|          Ottogi| Pack|South Korea|    2.0|      40.0|\n",
      "|   Uni-President| Pack|    Vietnam|    0.0|       0.0|\n",
      "|     Guava Story| Tray|South Korea|    1.0|      20.0|\n",
      "|Sichuan Guangyou| Bowl|      China|    0.0|       0.0|\n",
      "|         Indomie| Pack|    Nigeria|    1.5|      30.0|\n",
      "|    Tokyo Noodle| Pack|      Japan|    2.0|      40.0|\n",
      "|            Wang| Bowl|South Korea|    2.0|      40.0|\n",
      "| Dr. McDougall's|  Cup|        USA|    0.0|       0.0|\n",
      "|Sichuan Guangyou| Pack|      China|   0.25|       5.0|\n",
      "| Liang Cheng Mai| Tray|      China|    1.0|      20.0|\n",
      "|        Nongshim|  Cup|South Korea|    0.5|      10.0|\n",
      "|         Wai Wai| Pack|      India|    2.0|      40.0|\n",
      "|         Daikoku|  Cup|      Japan|    2.0|      40.0|\n",
      "|   Uni-President| Pack|     Taiwan|    1.0|      20.0|\n",
      "|           Knorr| Pack|   Pakistan|    1.0|      20.0|\n",
      "|     Master Kong| Pack|      China|    0.0|       0.0|\n",
      "+----------------+-----+-----------+-------+----------+\n",
      "only showing top 20 rows\n",
      "\n"
     ]
    }
   ],
   "source": [
    "# inverse operation\n",
    "\n",
    "df.filter(~(df['Stars_5']>2)).show()"
   ]
  },
  {
   "cell_type": "markdown",
   "id": "f6e57551",
   "metadata": {},
   "source": [
    "# Groupby and Aggregation Functions"
   ]
  },
  {
   "cell_type": "code",
   "execution_count": 50,
   "id": "a9e25b4a",
   "metadata": {},
   "outputs": [
    {
     "name": "stdout",
     "output_type": "stream",
     "text": [
      "+-----------------+-----------------+---------------+\n",
      "|            Brand|     sum(Stars_5)|sum(Percentage)|\n",
      "+-----------------+-----------------+---------------+\n",
      "|          Wai Wai|73.35000002384186|         1467.0|\n",
      "|             E-mi|              7.5|          150.0|\n",
      "|          Payless|             23.0|          460.0|\n",
      "|    Sakurai Foods|            41.75|          835.0|\n",
      "|   Hsin Tung Yang|              0.0|            0.0|\n",
      "|     Tokyo Noodle|            13.75|          275.0|\n",
      "|        Four Seas|            25.75|          515.0|\n",
      "|        President|              4.5|           90.0|\n",
      "|      Ikeda Shoku|             8.25|          165.0|\n",
      "|         Yamachan|            50.25|         1005.0|\n",
      "|         Ishimaru|              4.5|           90.0|\n",
      "|   Nakaya Shouten|              4.0|           80.0|\n",
      "|       Springlife|              3.0|           60.0|\n",
      "|          Sakurai|              3.5|           70.0|\n",
      "|Tokachimen Koubou|             2.25|           45.0|\n",
      "|     Rocket Brand|              2.5|           50.0|\n",
      "|   Sugakiya Foods|             7.75|          155.0|\n",
      "|          Daikoku|            23.25|          465.0|\n",
      "|  Sapporo Ichiban|            95.75|         1915.0|\n",
      "|            Sanpo|              4.0|           80.0|\n",
      "+-----------------+-----------------+---------------+\n",
      "only showing top 20 rows\n",
      "\n"
     ]
    }
   ],
   "source": [
    "# groupby \n",
    "\n",
    "df.groupby('Brand').sum().show()"
   ]
  },
  {
   "cell_type": "code",
   "execution_count": 51,
   "id": "19addb55",
   "metadata": {},
   "outputs": [
    {
     "name": "stdout",
     "output_type": "stream",
     "text": [
      "+--------------------+-----+------------+---------------+\n",
      "|               Brand|Style|sum(Stars_5)|sum(Percentage)|\n",
      "+--------------------+-----+------------+---------------+\n",
      "|         Ikeda Shoku| Tray|        3.75|           75.0|\n",
      "|             Deshome| Pack|       53.75|         1075.0|\n",
      "|            Sokensha| Pack|         3.5|           70.0|\n",
      "|       Dream Kitchen|  Cup|        12.0|          240.0|\n",
      "|               Sanpo| Bowl|         4.0|           80.0|\n",
      "|          Mexi-Ramen| Pack|         2.5|           50.0|\n",
      "|         Prima Taste| Pack|        35.0|          700.0|\n",
      "|          Mie Sedaap|  Cup|         1.5|           30.0|\n",
      "|                Koka|  Cup|        5.75|          115.0|\n",
      "|Komforte Chockolates|  Bar|         5.0|          100.0|\n",
      "|              Cintan| Pack|        16.5|          330.0|\n",
      "|             Acecook| Pack|         4.0|           80.0|\n",
      "|               Bamee| Pack|       13.25|          265.0|\n",
      "|         Higashimaru| Pack|         4.5|           90.0|\n",
      "|              Souper| Bowl|        3.75|           75.0|\n",
      "|                Boss| Bowl|         2.5|           50.0|\n",
      "|              Jingqi| Pack|        35.0|          700.0|\n",
      "|       One Dish Asia| Bowl|         0.0|            0.0|\n",
      "|               Bamee|  Cup|        3.25|           65.0|\n",
      "|      CJ CheilJedang|  Cup|         2.0|           40.0|\n",
      "+--------------------+-----+------------+---------------+\n",
      "only showing top 20 rows\n",
      "\n"
     ]
    }
   ],
   "source": [
    "df.groupby(['Brand','Style']).sum().show()"
   ]
  },
  {
   "cell_type": "code",
   "execution_count": 52,
   "id": "7649c3f0",
   "metadata": {},
   "outputs": [
    {
     "name": "stdout",
     "output_type": "stream",
     "text": [
      "+-----+------------------+-----------------+\n",
      "|Style|      avg(Stars_5)|  avg(Percentage)|\n",
      "+-----+------------------+-----------------+\n",
      "| Bowl| 3.670686070983474|73.41372141372142|\n",
      "|  Bar|               5.0|            100.0|\n",
      "|  Box| 4.291666666666667|85.83333333333333|\n",
      "| null|             3.375|             67.5|\n",
      "| Pack|3.7004581151374114|74.00916230366492|\n",
      "|  Cup| 3.498500000635783|            69.97|\n",
      "| Tray| 3.545138888888889|70.90277777777777|\n",
      "|  Can|               3.5|             70.0|\n",
      "+-----+------------------+-----------------+\n",
      "\n"
     ]
    }
   ],
   "source": [
    "df.groupby('Style').mean().show()"
   ]
  },
  {
   "cell_type": "code",
   "execution_count": 53,
   "id": "c575607a",
   "metadata": {},
   "outputs": [
    {
     "name": "stdout",
     "output_type": "stream",
     "text": [
      "+-----------------+-----------------+\n",
      "|     sum(Stars_5)|  avg(Percentage)|\n",
      "+-----------------+-----------------+\n",
      "|9418.100000359118|73.09351959642996|\n",
      "+-----------------+-----------------+\n",
      "\n"
     ]
    }
   ],
   "source": [
    "df.agg({'Stars_5':\"sum\",\"Percentage\":\"mean\"}).show()"
   ]
  },
  {
   "cell_type": "code",
   "execution_count": 54,
   "id": "a050076a",
   "metadata": {},
   "outputs": [
    {
     "name": "stdout",
     "output_type": "stream",
     "text": [
      "+-----------------+-----------------+-----------------+\n",
      "|            Brand|     sum(Stars_5)|  avg(Percentage)|\n",
      "+-----------------+-----------------+-----------------+\n",
      "|          Wai Wai|73.35000002384186|            58.68|\n",
      "|             E-mi|              7.5|             75.0|\n",
      "|          Payless|             23.0|76.66666666666667|\n",
      "|    Sakurai Foods|            41.75|             83.5|\n",
      "|   Hsin Tung Yang|              0.0|              0.0|\n",
      "|     Tokyo Noodle|            13.75|            68.75|\n",
      "|        Four Seas|            25.75|           64.375|\n",
      "|        President|              4.5|             90.0|\n",
      "|      Ikeda Shoku|             8.25|             82.5|\n",
      "|         Yamachan|            50.25|91.36363636363636|\n",
      "|         Ishimaru|              4.5|             90.0|\n",
      "|   Nakaya Shouten|              4.0|             80.0|\n",
      "|       Springlife|              3.0|             60.0|\n",
      "|          Sakurai|              3.5|             70.0|\n",
      "|Tokachimen Koubou|             2.25|             45.0|\n",
      "|     Rocket Brand|              2.5|             50.0|\n",
      "|   Sugakiya Foods|             7.75|             77.5|\n",
      "|          Daikoku|            23.25|             77.5|\n",
      "|  Sapporo Ichiban|            95.75|             76.6|\n",
      "|            Sanpo|              4.0|             80.0|\n",
      "+-----------------+-----------------+-----------------+\n",
      "only showing top 20 rows\n",
      "\n"
     ]
    }
   ],
   "source": [
    "df.groupby('Brand').agg({'Stars_5':\"sum\",\"Percentage\":\"mean\"}).show()"
   ]
  },
  {
   "cell_type": "code",
   "execution_count": 55,
   "id": "310449d5",
   "metadata": {},
   "outputs": [
    {
     "name": "stdout",
     "output_type": "stream",
     "text": [
      "+--------------------+-----+------------+----------------+\n",
      "|               Brand|Style|sum(Stars_5)| avg(Percentage)|\n",
      "+--------------------+-----+------------+----------------+\n",
      "|         Ikeda Shoku| Tray|        3.75|            75.0|\n",
      "|             Deshome| Pack|       53.75|82.6923076923077|\n",
      "|            Sokensha| Pack|         3.5|            70.0|\n",
      "|       Dream Kitchen|  Cup|        12.0|            80.0|\n",
      "|               Sanpo| Bowl|         4.0|            80.0|\n",
      "|          Mexi-Ramen| Pack|         2.5|            50.0|\n",
      "|         Prima Taste| Pack|        35.0|           100.0|\n",
      "|          Mie Sedaap|  Cup|         1.5|            30.0|\n",
      "|                Koka|  Cup|        5.75|            57.5|\n",
      "|Komforte Chockolates|  Bar|         5.0|           100.0|\n",
      "|              Cintan| Pack|        16.5|            66.0|\n",
      "|             Acecook| Pack|         4.0|            80.0|\n",
      "|               Bamee| Pack|       13.25|           66.25|\n",
      "|         Higashimaru| Pack|         4.5|            90.0|\n",
      "|              Souper| Bowl|        3.75|            75.0|\n",
      "|                Boss| Bowl|         2.5|            50.0|\n",
      "|              Jingqi| Pack|        35.0|            87.5|\n",
      "|       One Dish Asia| Bowl|         0.0|             0.0|\n",
      "|               Bamee|  Cup|        3.25|            65.0|\n",
      "|      CJ CheilJedang|  Cup|         2.0|            40.0|\n",
      "+--------------------+-----+------------+----------------+\n",
      "only showing top 20 rows\n",
      "\n"
     ]
    }
   ],
   "source": [
    "df.groupby(['Brand','Style']).agg({'Stars_5':\"sum\",\"Percentage\":\"mean\"}).show()"
   ]
  },
  {
   "cell_type": "code",
   "execution_count": 56,
   "id": "d25e4de1",
   "metadata": {},
   "outputs": [
    {
     "name": "stdout",
     "output_type": "stream",
     "text": [
      "+--------------+-----+-----------+-------+----------+--------+\n",
      "|         Brand|Style|    Country|Stars_5|Percentage|Stars_10|\n",
      "+--------------+-----+-----------+-------+----------+--------+\n",
      "|     New Touch|  Cup|      Japan|   3.75|      75.0|     7.5|\n",
      "|      Just Way| Pack|     Taiwan|    1.0|      20.0|     2.0|\n",
      "|        Nissin|  Cup|        USA|   2.25|      45.0|     4.5|\n",
      "|       Wei Lih| Pack|     Taiwan|   2.75|      55.0|     5.5|\n",
      "|Ching's Secret| Pack|      India|   3.75|      75.0|     7.5|\n",
      "| Samyang Foods| Pack|South Korea|   4.75|      95.0|     9.5|\n",
      "|       Acecook|  Cup|      Japan|    4.0|      80.0|     8.0|\n",
      "|   Ikeda Shoku| Tray|      Japan|   3.75|      75.0|     7.5|\n",
      "|    Ripe'n'Dry| Pack|      Japan|   0.25|       5.0|     0.5|\n",
      "|          KOKA| Pack|  Singapore|    2.5|      50.0|     5.0|\n",
      "|   Tao Kae Noi| Pack|   Thailand|    5.0|     100.0|    10.0|\n",
      "|      Yamachan| Pack|        USA|    5.0|     100.0|    10.0|\n",
      "|      Nongshim| Pack|South Korea|   4.25|      85.0|     8.5|\n",
      "|        Nissin| Bowl|      Japan|    4.5|      90.0|     9.0|\n",
      "|        Nissin| Pack|  Hong Kong|    5.0|     100.0|    10.0|\n",
      "|          KOKA|  Cup|  Singapore|    3.5|      70.0|     7.0|\n",
      "|          TRDP| Pack|      India|   3.75|      75.0|     7.5|\n",
      "|      Yamachan| Pack|        USA|    5.0|     100.0|    10.0|\n",
      "|      Binh Tay| Pack|    Vietnam|    4.0|      80.0|     8.0|\n",
      "|         Paldo| Pack|South Korea|    4.0|      80.0|     8.0|\n",
      "+--------------+-----+-----------+-------+----------+--------+\n",
      "only showing top 20 rows\n",
      "\n"
     ]
    }
   ],
   "source": [
    "df = df.withColumn('Stars_10',df['Stars_5']*2)\n",
    "df.show()"
   ]
  },
  {
   "cell_type": "code",
   "execution_count": 57,
   "id": "de751ffb",
   "metadata": {},
   "outputs": [
    {
     "data": {
      "text/plain": [
       "['Brand', 'Style', 'Country', 'Stars_5', 'Percentage', 'Stars_10']"
      ]
     },
     "execution_count": 57,
     "metadata": {},
     "output_type": "execute_result"
    }
   ],
   "source": [
    "df.columns"
   ]
  },
  {
   "cell_type": "code",
   "execution_count": null,
   "id": "3e2d8814",
   "metadata": {},
   "outputs": [],
   "source": []
  }
 ],
 "metadata": {
  "kernelspec": {
   "display_name": "Python 3 (ipykernel)",
   "language": "python",
   "name": "python3"
  },
  "language_info": {
   "codemirror_mode": {
    "name": "ipython",
    "version": 3
   },
   "file_extension": ".py",
   "mimetype": "text/x-python",
   "name": "python",
   "nbconvert_exporter": "python",
   "pygments_lexer": "ipython3",
   "version": "3.8.11"
  },
  "widgets": {
   "application/vnd.jupyter.widget-state+json": {
    "state": {},
    "version_major": 2,
    "version_minor": 0
   }
  }
 },
 "nbformat": 4,
 "nbformat_minor": 5
}
